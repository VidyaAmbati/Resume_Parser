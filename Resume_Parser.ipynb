{
  "nbformat": 4,
  "nbformat_minor": 0,
  "metadata": {
    "colab": {
      "provenance": []
    },
    "kernelspec": {
      "name": "python3",
      "display_name": "Python 3"
    },
    "language_info": {
      "name": "python"
    }
  },
  "cells": [
    {
      "cell_type": "code",
      "source": [
        "import nltk"
      ],
      "metadata": {
        "id": "_wFKK-680Vj0"
      },
      "execution_count": null,
      "outputs": []
    },
    {
      "cell_type": "code",
      "source": [
        "def calculate_score(job_requirements, candidate_skills):\n",
        "    match_count = sum(1 for word in job_requirements if word in candidate_skills)\n",
        "    return match_count"
      ],
      "metadata": {
        "id": "7hFLcgzP0W0v"
      },
      "execution_count": null,
      "outputs": []
    },
    {
      "cell_type": "code",
      "source": [
        "def find_best_candidate(job_requirements, candidate_profiles):\n",
        "    best_candidate = None\n",
        "    best_score = 0\n",
        "    for candidate in candidate_profiles:\n",
        "        candidate_skills = candidate['skills']\n",
        "        candidate_experience = candidate['experience']\n",
        "        communication_skills = candidate['communication_skills']\n",
        "        score = calculate_score(job_requirements, candidate_skills)\n",
        "        score += candidate_experience\n",
        "        if communication_skills == 'excellent':\n",
        "            score += 2\n",
        "        elif communication_skills == 'good':\n",
        "            score += 1\n",
        "        if score > best_score:\n",
        "            best_candidate = candidate\n",
        "            best_score = score\n",
        "    return best_candidate"
      ],
      "metadata": {
        "id": "uaXqwM1l0bE6"
      },
      "execution_count": null,
      "outputs": []
    },
    {
      "cell_type": "code",
      "source": [
        "def print_candidate(candidate):\n",
        "    if candidate:\n",
        "        print(\"Best candidate for the job:\")\n",
        "        print(f\"Name: {candidate['name']}\")\n",
        "        print(f\"Skills: {', '.join(candidate['skills'])}\")\n",
        "        print(f\"Experience: {candidate['experience']} years\")\n",
        "        print(f\"Communication Skills: {candidate['communication_skills']}\")\n",
        "    else:\n",
        "        print(\"No suitable candidates found.\")"
      ],
      "metadata": {
        "id": "eK7KlmrL0pWz"
      },
      "execution_count": null,
      "outputs": []
    },
    {
      "cell_type": "code",
      "source": [
        "def get_job_requirements():\n",
        "    job_requirements = []\n",
        "    while True:\n",
        "        requirement = input(\"Enter a job requirement (or 'done' to finish): \")\n",
        "        if requirement.lower() == 'done':\n",
        "            break\n",
        "        job_requirements.append(requirement.lower())\n",
        "    return job_requirements"
      ],
      "metadata": {
        "id": "LLTpKI9b0smW"
      },
      "execution_count": null,
      "outputs": []
    },
    {
      "cell_type": "code",
      "source": [
        "def main():\n",
        "    print(\"Enter the job requirements:\")\n",
        "    job_requirements = get_job_requirements()\n",
        "    candidate_profiles = [\n",
        "        {\n",
        "            'name': 'MITANSHI',\n",
        "            'skills': ['python', 'data analysis', 'problem-solving'],\n",
        "            'experience': 7,\n",
        "            'communication_skills': 'excellent'\n",
        "        },\n",
        "        {\n",
        "            'name': 'UDAY',\n",
        "            'skills': ['python', 'machine learning', 'data visualization'],\n",
        "            'experience': 5,\n",
        "            'communication_skills': 'good'\n",
        "        },\n",
        "        {\n",
        "            'name': 'VRUNDA',\n",
        "            'skills': ['python', 'machine learning', 'communication skills'],\n",
        "            'experience': 2,\n",
        "            'communication_skills': 'excellent'\n",
        "        },\n",
        "        {\n",
        "            'name': 'MAHI',\n",
        "            'skills': ['python', 'deep learning', 'communication skills'],\n",
        "            'experience': 4,\n",
        "            'communication_skills': 'excellent'\n",
        "        },\n",
        "        {\n",
        "            'name': 'MEDHA',\n",
        "            'skills': ['python', 'data engineering', 'communication skills'],\n",
        "            'experience': 6,\n",
        "            'communication_skills': 'good'\n",
        "        }\n",
        "    ]\n",
        "    best_candidate = find_best_candidate(job_requirements, candidate_profiles)\n",
        "    print_candidate(best_candidate)"
      ],
      "metadata": {
        "id": "USEu0IU-0vaq"
      },
      "execution_count": null,
      "outputs": []
    },
    {
      "cell_type": "code",
      "source": [
        "if __name__ == \"__main__\":\n",
        "    main()"
      ],
      "metadata": {
        "colab": {
          "base_uri": "https://localhost:8080/"
        },
        "id": "7AWSgSn407Mq",
        "outputId": "2eac366a-a92e-4ae2-a7f6-396c5b532249"
      },
      "execution_count": null,
      "outputs": [
        {
          "output_type": "stream",
          "name": "stdout",
          "text": [
            "Enter the job requirements:\n",
            "Enter a job requirement (or 'done' to finish): DONE\n",
            "Best candidate for the job:\n",
            "Name: MITANSHI\n",
            "Skills: python, data analysis, problem-solving\n",
            "Experience: 7 years\n",
            "Communication Skills: excellent\n"
          ]
        }
      ]
    }
  ]
}